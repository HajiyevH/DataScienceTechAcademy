{
 "cells": [
  {
   "cell_type": "code",
   "execution_count": 5,
   "metadata": {},
   "outputs": [
    {
     "name": "stdout",
     "output_type": "stream",
     "text": [
      "0\n",
      "1\n",
      "2\n",
      "1\n"
     ]
    }
   ],
   "source": [
    "def isunique(list, x):\n",
    "    m = 0\n",
    "    for i in list:\n",
    "        if i == x:\n",
    "            m+=1\n",
    "    return m\n",
    "\n",
    "for i in range(3):\n",
    "    print(i)\n",
    "print(5%2)\n",
    "\n",
    "        \n"
   ]
  },
  {
   "cell_type": "code",
   "execution_count": 16,
   "metadata": {},
   "outputs": [
    {
     "name": "stdout",
     "output_type": "stream",
     "text": [
      "True\n",
      "bab\n",
      "0\n",
      "ccc\n"
     ]
    }
   ],
   "source": [
    "s = \"babad\"\n",
    "def ispalindrome(strg):\n",
    "    polindrome = True\n",
    "    for i in range(len(strg)//2):\n",
    "        if strg[i]!=strg[len(strg)-1-i]:\n",
    "            polindrome = False\n",
    "            break\n",
    "    return polindrome\n",
    "ans = s[0]\n",
    "for j in range(len(s)-1):\n",
    "    for i in range(j+1):\n",
    "        if ispalindrome(s[i:len(s)-j+i]):\n",
    "           ans = s[i:len(s)-j+i]\n",
    "           break\n",
    "print(ispalindrome(\"bab\"))\n",
    "print(ans)\n",
    "for i in range(len(\"bab\")//2):\n",
    "    print(i)\n",
    "print(\"ccc\"[0:3])"
   ]
  },
  {
   "cell_type": "code",
   "execution_count": 20,
   "metadata": {},
   "outputs": [
    {
     "name": "stdout",
     "output_type": "stream",
     "text": [
      "cc\n"
     ]
    }
   ],
   "source": [
    "s = \"ccc\"\n",
    "def ispalindrome(strg):\n",
    "    polindrome = True\n",
    "    for i in range(len(strg)//2):\n",
    "        if strg[i]!=strg[len(strg)-1-i]:\n",
    "            polindrome = False\n",
    "            break\n",
    "    return polindrome\n",
    "ans = s[0]\n",
    "for j in range(len(s)-1):\n",
    "    for i in range(j+1):\n",
    "        if ispalindrome(s[i:len(s)-j+i]):\n",
    "            ans = s[i:len(s)-j+i]\n",
    "            break\n",
    "print(ans)"
   ]
  },
  {
   "cell_type": "code",
   "execution_count": null,
   "metadata": {},
   "outputs": [],
   "source": [
    "class Solution:\n",
    "    def longestPalindrome(self, s: str) -> str:\n",
    "        def ispalindrome(strg):\n",
    "            polindrome = True\n",
    "            for i in range(len(strg)//2):\n",
    "                if strg[i]!=strg[len(strg)-1-i]:\n",
    "                    polindrome = False\n",
    "                    break\n",
    "            return polindrome\n",
    "        ans = s[0]\n",
    "        for j in range(len(s)-1):\n",
    "            for i in range(j+1):\n",
    "                if ispalindrome(s[i:len(s)-j+i]):\n",
    "                   ans = s[i:len(s)-j+i]\n",
    "                   break\n",
    "        return ans"
   ]
  }
 ],
 "metadata": {
  "kernelspec": {
   "display_name": "unsupervisedLearning",
   "language": "python",
   "name": "python3"
  },
  "language_info": {
   "codemirror_mode": {
    "name": "ipython",
    "version": 3
   },
   "file_extension": ".py",
   "mimetype": "text/x-python",
   "name": "python",
   "nbconvert_exporter": "python",
   "pygments_lexer": "ipython3",
   "version": "3.11.4"
  }
 },
 "nbformat": 4,
 "nbformat_minor": 2
}
