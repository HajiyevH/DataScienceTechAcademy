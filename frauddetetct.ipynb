{
 "cells": [
  {
   "cell_type": "markdown",
   "metadata": {},
   "source": []
  },
  {
   "cell_type": "code",
   "execution_count": 45,
   "metadata": {},
   "outputs": [],
   "source": [
    "import pandas as pd\n",
    "import numpy as np\n",
    "import warnings\n",
    "import matplotlib.pyplot as plt\n",
    "import seaborn as sns\n",
    "from sklearn.preprocessing import StandardScaler , RobustScaler\n",
    "from scipy.stats import boxcox,skew\n",
    "from sklearn.linear_model import LogisticRegression ,LogisticRegressionCV\n",
    "from sklearn.pipeline import make_pipeline\n",
    "from sklearn.model_selection import train_test_split\n",
    "from sklearn.metrics import r2_score\n",
    "warnings.filterwarnings(\"ignore\")\n",
    "df = pd.read_csv(\"/Users/hajiaga/Downloads/creditcard.csv\")\n"
   ]
  },
  {
   "cell_type": "code",
   "execution_count": null,
   "metadata": {},
   "outputs": [],
   "source": [
    "#Code which is fully written me and mentor\n",
    "\n",
    "def get_outliers(data , column):\n",
    "    Q1 = data[column].quantile(0.25)\n",
    "    Q3 = data[column].quantile(0.75)\n",
    "    IQR = Q3 - Q1\n",
    "    lower_bound = Q1 - IQR*1.5\n",
    "    upper_bound = Q3 + IQR*1.5\n",
    "    return [data.loc[(data[column].astype(float) < lower_bound) | (data[column].astype(float) > upper_bound)].shape[0] , lower_bound ,upper_bound]\n",
    "\n",
    "lowers , uppers = [] , []\n",
    "for col in df.columns:\n",
    "    lowers.append(get_outliers(df,col)[1])\n",
    "    uppers.append(get_outliers(df,col)[2])\n",
    "print(lowers)\n",
    "print(uppers)\n",
    "np.sum((df>lowers) & ( df<uppers),axis=1)>8\n",
    "df = df[np.sum((df>lowers) & ( df<uppers),axis=1)>23]\n",
    "df.info()\n",
    "df[\"Class\"]"
   ]
  },
  {
   "cell_type": "code",
   "execution_count": 47,
   "metadata": {},
   "outputs": [],
   "source": [
    "def replace_outliers_with_bounds(data):\n",
    "    for column in data.columns:\n",
    "        Q1 = data[column].quantile(0.25)\n",
    "        Q3 = data[column].quantile(0.75)\n",
    "        IQR = Q3 - Q1\n",
    "        lower_bound = Q1 - 1.5 * IQR\n",
    "        upper_bound = Q3 + 1.5 * IQR\n",
    "        if column != \"Class\":\n",
    "            data[column] = np.where(data[column] < lower_bound, lower_bound, data[column])\n",
    "            data[column] = np.where(data[column] > upper_bound, upper_bound, data[column])\n",
    "    return data\n",
    "df = replace_outliers_with_bounds(df)"
   ]
  },
  {
   "cell_type": "code",
   "execution_count": 48,
   "metadata": {},
   "outputs": [],
   "source": [
    "# for col in df.columns:\n",
    "#     fig , (bfr , aft) = plt.subplots(nrows=1,ncols=2,figsize=(15,3))\n",
    "#     sns.histplot(df[col] , ax=bfr)\n",
    "#     sns.histplot(df[col].apply(np.log1p) , ax=aft)\n",
    "#     bfr.set(title= col)\n",
    "#     aft.set(title=\"Buda sonraki\")\n",
    "#     plt.show()\n"
   ]
  },
  {
   "cell_type": "code",
   "execution_count": null,
   "metadata": {},
   "outputs": [],
   "source": [
    "num_cols = df.dtypes[df.dtypes != \"object\"].index\n",
    "skewed_feats = df[num_cols].apply(lambda x: skew(x.dropna())).sort_values(ascending=False)\n",
    "skewness = pd.DataFrame({'Skew' :skewed_feats})\n",
    "\n",
    "skewed_feats =skewness[skewness>0.70].index\n",
    "for i in skewed_feats:\n",
    "    if i != \"Class\":\n",
    "        print(np.min(df[i]),i)\n",
    "        df[i] +=5\n",
    "        fig , (bfr,aft) = plt.subplots(ncols=2,nrows=1,figsize = (15,3))\n",
    "        sns.histplot(df[i],ax=bfr)\n",
    "        df[i] , lam = boxcox(df[i])\n",
    "        sns.histplot(df[i],ax=aft)\n",
    "        plt.show()\n",
    "        bfr.set(title= i)\n",
    "        aft.set(title=\"Buda sonraki\")\n",
    "\n",
    "df.select_dtypes(include=\"O\").columns\n",
    "print(skewed_feats)"
   ]
  },
  {
   "cell_type": "code",
   "execution_count": 50,
   "metadata": {},
   "outputs": [
    {
     "name": "stdout",
     "output_type": "stream",
     "text": [
      "0.041352159690537516\n",
      "0.10495320475235947\n"
     ]
    }
   ],
   "source": [
    "#model qurmaq\n",
    "#Bilmediyim bir error gelir duzelde bilmedim ne qeder arasdirsamda\n",
    "X_tr , X_te , Y_tr , Y_te  = train_test_split(df.drop('Class', axis=1), df['Class'], test_size=0.2, random_state=42, shuffle=True)\n",
    "pipeline = make_pipeline(StandardScaler(),LogisticRegression(random_state=42))\n",
    "\n",
    "pipeline.fit(X_tr,Y_tr)\n",
    "\n",
    "print(r2_score(Y_tr,pipeline.predict(X_tr)))\n",
    "print(r2_score(Y_te,pipeline.predict(X_te)))\n"
   ]
  }
 ],
 "metadata": {
  "kernelspec": {
   "display_name": "unsupervisedLearning",
   "language": "python",
   "name": "python3"
  },
  "language_info": {
   "codemirror_mode": {
    "name": "ipython",
    "version": 3
   },
   "file_extension": ".py",
   "mimetype": "text/x-python",
   "name": "python",
   "nbconvert_exporter": "python",
   "pygments_lexer": "ipython3",
   "version": "3.11.4"
  }
 },
 "nbformat": 4,
 "nbformat_minor": 2
}
