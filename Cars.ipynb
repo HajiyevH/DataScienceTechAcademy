{
 "cells": [
  {
   "cell_type": "code",
   "execution_count": 18,
   "metadata": {},
   "outputs": [],
   "source": [
    "import pandas as pd\n",
    "import warnings\n",
    "warnings.filterwarnings(\"ignore\")\n",
    "import numpy as np\n",
    "import matplotlib.pyplot as plt\n",
    "import seaborn as sns\n",
    "from sklearn.preprocessing import OneHotEncoder , LabelEncoder\n",
    "df1 = pd.read_csv(\"/Users/hajiaga/Downloads/archive-2/car data.csv\")\n",
    "df2 = pd.read_csv(\"/Users/hajiaga/Downloads/archive-2/CAR DETAILS FROM CAR DEKHO.csv\")\n",
    "df3 = pd.read_csv(\"/Users/hajiaga/Downloads/archive-2/Car details v3.csv\")\n",
    "df4 = pd.read_csv(\"/Users/hajiaga/Downloads/archive-2/Car details v4.csv\")"
   ]
  },
  {
   "cell_type": "code",
   "execution_count": 19,
   "metadata": {},
   "outputs": [
    {
     "name": "stdout",
     "output_type": "stream",
     "text": [
      "Oldu\n"
     ]
    }
   ],
   "source": [
    "print(\"Oldu\")"
   ]
  },
  {
   "cell_type": "code",
   "execution_count": 20,
   "metadata": {},
   "outputs": [
    {
     "data": {
      "text/plain": [
       "Index(['Car_Name', 'Fuel_Type', 'Seller_Type', 'Transmission'], dtype='object')"
      ]
     },
     "execution_count": 20,
     "metadata": {},
     "output_type": "execute_result"
    }
   ],
   "source": [
    "df1._get_numeric_data().columns\n",
    "non_numeric = df1.select_dtypes(include=\"O\").columns\n",
    "non_numeric\n"
   ]
  },
  {
   "cell_type": "code",
   "execution_count": 21,
   "metadata": {},
   "outputs": [],
   "source": [
    "ohe = OneHotEncoder(drop=\"first\")\n",
    "ohe.fit(df1[['Fuel_Type']])\n",
    "dffuel = ohe.transform(df1[['Fuel_Type']])\n",
    "dffuel = pd.DataFrame(dffuel.toarray())\n"
   ]
  },
  {
   "cell_type": "code",
   "execution_count": 22,
   "metadata": {},
   "outputs": [
    {
     "data": {
      "text/plain": [
       "0         ritz\n",
       "1          sx4\n",
       "2         ciaz\n",
       "3      wagon r\n",
       "4        swift\n",
       "        ...   \n",
       "296       city\n",
       "297       brio\n",
       "298       city\n",
       "299       city\n",
       "300       brio\n",
       "Name: Car_Name, Length: 301, dtype: object"
      ]
     },
     "execution_count": 22,
     "metadata": {},
     "output_type": "execute_result"
    }
   ],
   "source": [
    "df1[non_numeric[0]]"
   ]
  }
 ],
 "metadata": {
  "kernelspec": {
   "display_name": "unsupervisedLearning",
   "language": "python",
   "name": "python3"
  },
  "language_info": {
   "codemirror_mode": {
    "name": "ipython",
    "version": 3
   },
   "file_extension": ".py",
   "mimetype": "text/x-python",
   "name": "python",
   "nbconvert_exporter": "python",
   "pygments_lexer": "ipython3",
   "version": "3.11.4"
  },
  "orig_nbformat": 4
 },
 "nbformat": 4,
 "nbformat_minor": 2
}
