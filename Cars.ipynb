{
 "cells": [
  {
   "cell_type": "code",
   "execution_count": 18,
   "metadata": {},
   "outputs": [],
   "source": [
    "import pandas as pd\n",
    "import warnings\n",
    "warnings.filterwarnings(\"ignore\")\n",
    "import numpy as np\n",
    "import matplotlib.pyplot as plt\n",
    "import seaborn as sns\n",
    "from sklearn.preprocessing import OneHotEncoder , LabelEncoder\n",
    "df1 = pd.read_csv(\"/Users/hajiaga/Downloads/archive-2/car data.csv\")\n",
    "df2 = pd.read_csv(\"/Users/hajiaga/Downloads/archive-2/CAR DETAILS FROM CAR DEKHO.csv\")\n",
    "df3 = pd.read_csv(\"/Users/hajiaga/Downloads/archive-2/Car details v3.csv\")\n",
    "df4 = pd.read_csv(\"/Users/hajiaga/Downloads/archive-2/Car details v4.csv\")"
   ]
  },
  {
   "cell_type": "code",
   "execution_count": 16,
   "metadata": {},
   "outputs": [
    {
     "data": {
      "text/plain": [
       "Index(['Car_Name', 'Fuel_Type', 'Seller_Type', 'Transmission'], dtype='object')"
      ]
     },
     "execution_count": 16,
     "metadata": {},
     "output_type": "execute_result"
    }
   ],
   "source": [
    "df1._get_numeric_data().columns\n",
    "non_numeric = df1.select_dtypes(include=\"O\").columns\n",
    "non_numeric\n"
   ]
  },
  {
   "cell_type": "code",
   "execution_count": 26,
   "metadata": {},
   "outputs": [
    {
     "ename": "ValueError",
     "evalue": "Expected 2D array, got 1D array instead:\narray=['Petrol' 'Diesel' 'Petrol' 'Petrol' 'Diesel' 'Diesel' 'Petrol' 'Diesel'\n 'Diesel' 'Diesel' 'Petrol' 'Diesel' 'Petrol' 'Petrol' 'Petrol' 'Diesel'\n 'Diesel' 'Diesel' 'CNG' 'Petrol' 'Petrol' 'Petrol' 'Petrol' 'Petrol'\n 'Petrol' 'Petrol' 'Petrol' 'Petrol' 'Petrol' 'Diesel' 'Diesel' 'Petrol'\n 'Diesel' 'Diesel' 'Diesel' 'CNG' 'Petrol' 'Petrol' 'Petrol' 'Petrol'\n 'Petrol' 'Petrol' 'Petrol' 'Diesel' 'Petrol' 'Petrol' 'Petrol' 'Petrol'\n 'Petrol' 'Petrol' 'Diesel' 'Diesel' 'Diesel' 'Diesel' 'Petrol' 'Petrol'\n 'Petrol' 'Petrol' 'Petrol' 'Diesel' 'Petrol' 'Petrol' 'Diesel' 'Diesel'\n 'Diesel' 'Diesel' 'Petrol' 'Diesel' 'Petrol' 'Petrol' 'Diesel' 'Diesel'\n 'Petrol' 'Petrol' 'Diesel' 'Petrol' 'Petrol' 'Petrol' 'Petrol' 'Diesel'\n 'Diesel' 'Diesel' 'Diesel' 'Diesel' 'Diesel' 'Petrol' 'Diesel' 'Petrol'\n 'Petrol' 'Petrol' 'Petrol' 'Diesel' 'Petrol' 'Diesel' 'Petrol' 'Petrol'\n 'Diesel' 'Petrol' 'Petrol' 'Diesel' 'Petrol' 'Petrol' 'Petrol' 'Petrol'\n 'Petrol' 'Petrol' 'Petrol' 'Petrol' 'Petrol' 'Petrol' 'Petrol' 'Petrol'\n 'Petrol' 'Petrol' 'Petrol' 'Petrol' 'Petrol' 'Petrol' 'Petrol' 'Petrol'\n 'Petrol' 'Petrol' 'Petrol' 'Petrol' 'Petrol' 'Petrol' 'Petrol' 'Petrol'\n 'Petrol' 'Petrol' 'Petrol' 'Petrol' 'Petrol' 'Petrol' 'Petrol' 'Petrol'\n 'Petrol' 'Petrol' 'Petrol' 'Petrol' 'Petrol' 'Petrol' 'Petrol' 'Petrol'\n 'Petrol' 'Petrol' 'Petrol' 'Petrol' 'Petrol' 'Petrol' 'Petrol' 'Petrol'\n 'Petrol' 'Petrol' 'Petrol' 'Petrol' 'Petrol' 'Petrol' 'Petrol' 'Petrol'\n 'Petrol' 'Petrol' 'Petrol' 'Petrol' 'Petrol' 'Petrol' 'Petrol' 'Petrol'\n 'Petrol' 'Petrol' 'Petrol' 'Petrol' 'Petrol' 'Petrol' 'Petrol' 'Petrol'\n 'Petrol' 'Petrol' 'Petrol' 'Petrol' 'Petrol' 'Petrol' 'Petrol' 'Petrol'\n 'Petrol' 'Petrol' 'Petrol' 'Petrol' 'Petrol' 'Petrol' 'Petrol' 'Petrol'\n 'Petrol' 'Petrol' 'Petrol' 'Petrol' 'Petrol' 'Petrol' 'Petrol' 'Petrol'\n 'Petrol' 'Diesel' 'Petrol' 'Petrol' 'Petrol' 'Petrol' 'Petrol' 'Petrol'\n 'Petrol' 'Diesel' 'Petrol' 'Diesel' 'Petrol' 'Petrol' 'Petrol' 'Petrol'\n 'Petrol' 'Petrol' 'Petrol' 'Petrol' 'Petrol' 'Petrol' 'Diesel' 'Diesel'\n 'Petrol' 'Petrol' 'Petrol' 'Petrol' 'Diesel' 'Diesel' 'Diesel' 'Petrol'\n 'Petrol' 'Diesel' 'Petrol' 'Petrol' 'Petrol' 'Diesel' 'Petrol' 'Petrol'\n 'Diesel' 'Petrol' 'Petrol' 'Petrol' 'Diesel' 'Diesel' 'Petrol' 'Petrol'\n 'Petrol' 'Petrol' 'Diesel' 'Petrol' 'Petrol' 'Diesel' 'Petrol' 'Petrol'\n 'Petrol' 'Petrol' 'Petrol' 'Petrol' 'Petrol' 'Petrol' 'Petrol' 'Petrol'\n 'Petrol' 'Petrol' 'Petrol' 'Diesel' 'Petrol' 'Petrol' 'Petrol' 'Petrol'\n 'Petrol' 'Petrol' 'Petrol' 'Petrol' 'Petrol' 'Petrol' 'Petrol' 'Petrol'\n 'Petrol' 'Petrol' 'Diesel' 'Petrol' 'Petrol' 'Petrol' 'Petrol' 'Petrol'\n 'Petrol' 'Petrol' 'Petrol' 'Petrol' 'Petrol' 'Petrol' 'Petrol' 'Diesel'\n 'Diesel' 'Petrol' 'Petrol' 'Diesel' 'Petrol'].\nReshape your data either using array.reshape(-1, 1) if your data has a single feature or array.reshape(1, -1) if it contains a single sample.",
     "output_type": "error",
     "traceback": [
      "\u001b[0;31m---------------------------------------------------------------------------\u001b[0m",
      "\u001b[0;31mValueError\u001b[0m                                Traceback (most recent call last)",
      "\u001b[1;32m/Users/hajiaga/Data Science/Cars.ipynb Cell 3\u001b[0m line \u001b[0;36m2\n\u001b[1;32m      <a href='vscode-notebook-cell:/Users/hajiaga/Data%20Science/Cars.ipynb#W3sZmlsZQ%3D%3D?line=0'>1</a>\u001b[0m ohe \u001b[39m=\u001b[39m OneHotEncoder(drop\u001b[39m=\u001b[39m\u001b[39m\"\u001b[39m\u001b[39mfirst\u001b[39m\u001b[39m\"\u001b[39m)\n\u001b[0;32m----> <a href='vscode-notebook-cell:/Users/hajiaga/Data%20Science/Cars.ipynb#W3sZmlsZQ%3D%3D?line=1'>2</a>\u001b[0m ohe\u001b[39m.\u001b[39mfit(df1[\u001b[39m'\u001b[39m\u001b[39mFuel_Type\u001b[39m\u001b[39m'\u001b[39m])\n\u001b[1;32m      <a href='vscode-notebook-cell:/Users/hajiaga/Data%20Science/Cars.ipynb#W3sZmlsZQ%3D%3D?line=2'>3</a>\u001b[0m dffuel \u001b[39m=\u001b[39m ohe\u001b[39m.\u001b[39mtransform(\u001b[39m'\u001b[39m\u001b[39mFuel_Type\u001b[39m\u001b[39m'\u001b[39m)\n\u001b[1;32m      <a href='vscode-notebook-cell:/Users/hajiaga/Data%20Science/Cars.ipynb#W3sZmlsZQ%3D%3D?line=3'>4</a>\u001b[0m dffuel\u001b[39m.\u001b[39mhead()\n",
      "File \u001b[0;32m~/anaconda3/envs/unsupervisedLearning/lib/python3.11/site-packages/sklearn/base.py:1151\u001b[0m, in \u001b[0;36m_fit_context.<locals>.decorator.<locals>.wrapper\u001b[0;34m(estimator, *args, **kwargs)\u001b[0m\n\u001b[1;32m   1144\u001b[0m     estimator\u001b[39m.\u001b[39m_validate_params()\n\u001b[1;32m   1146\u001b[0m \u001b[39mwith\u001b[39;00m config_context(\n\u001b[1;32m   1147\u001b[0m     skip_parameter_validation\u001b[39m=\u001b[39m(\n\u001b[1;32m   1148\u001b[0m         prefer_skip_nested_validation \u001b[39mor\u001b[39;00m global_skip_validation\n\u001b[1;32m   1149\u001b[0m     )\n\u001b[1;32m   1150\u001b[0m ):\n\u001b[0;32m-> 1151\u001b[0m     \u001b[39mreturn\u001b[39;00m fit_method(estimator, \u001b[39m*\u001b[39margs, \u001b[39m*\u001b[39m\u001b[39m*\u001b[39mkwargs)\n",
      "File \u001b[0;32m~/anaconda3/envs/unsupervisedLearning/lib/python3.11/site-packages/sklearn/preprocessing/_encoders.py:982\u001b[0m, in \u001b[0;36mOneHotEncoder.fit\u001b[0;34m(self, X, y)\u001b[0m\n\u001b[1;32m    972\u001b[0m     warnings\u001b[39m.\u001b[39mwarn(\n\u001b[1;32m    973\u001b[0m         (\n\u001b[1;32m    974\u001b[0m             \u001b[39m\"\u001b[39m\u001b[39m`sparse` was renamed to `sparse_output` in version 1.2 and \u001b[39m\u001b[39m\"\u001b[39m\n\u001b[0;32m   (...)\u001b[0m\n\u001b[1;32m    978\u001b[0m         \u001b[39mFutureWarning\u001b[39;00m,\n\u001b[1;32m    979\u001b[0m     )\n\u001b[1;32m    980\u001b[0m     \u001b[39mself\u001b[39m\u001b[39m.\u001b[39msparse_output \u001b[39m=\u001b[39m \u001b[39mself\u001b[39m\u001b[39m.\u001b[39msparse\n\u001b[0;32m--> 982\u001b[0m \u001b[39mself\u001b[39m\u001b[39m.\u001b[39m_fit(\n\u001b[1;32m    983\u001b[0m     X,\n\u001b[1;32m    984\u001b[0m     handle_unknown\u001b[39m=\u001b[39m\u001b[39mself\u001b[39m\u001b[39m.\u001b[39mhandle_unknown,\n\u001b[1;32m    985\u001b[0m     force_all_finite\u001b[39m=\u001b[39m\u001b[39m\"\u001b[39m\u001b[39mallow-nan\u001b[39m\u001b[39m\"\u001b[39m,\n\u001b[1;32m    986\u001b[0m )\n\u001b[1;32m    987\u001b[0m \u001b[39mself\u001b[39m\u001b[39m.\u001b[39m_set_drop_idx()\n\u001b[1;32m    988\u001b[0m \u001b[39mself\u001b[39m\u001b[39m.\u001b[39m_n_features_outs \u001b[39m=\u001b[39m \u001b[39mself\u001b[39m\u001b[39m.\u001b[39m_compute_n_features_outs()\n",
      "File \u001b[0;32m~/anaconda3/envs/unsupervisedLearning/lib/python3.11/site-packages/sklearn/preprocessing/_encoders.py:77\u001b[0m, in \u001b[0;36m_BaseEncoder._fit\u001b[0;34m(self, X, handle_unknown, force_all_finite, return_counts, return_and_ignore_missing_for_infrequent)\u001b[0m\n\u001b[1;32m     75\u001b[0m \u001b[39mself\u001b[39m\u001b[39m.\u001b[39m_check_n_features(X, reset\u001b[39m=\u001b[39m\u001b[39mTrue\u001b[39;00m)\n\u001b[1;32m     76\u001b[0m \u001b[39mself\u001b[39m\u001b[39m.\u001b[39m_check_feature_names(X, reset\u001b[39m=\u001b[39m\u001b[39mTrue\u001b[39;00m)\n\u001b[0;32m---> 77\u001b[0m X_list, n_samples, n_features \u001b[39m=\u001b[39m \u001b[39mself\u001b[39m\u001b[39m.\u001b[39m_check_X(\n\u001b[1;32m     78\u001b[0m     X, force_all_finite\u001b[39m=\u001b[39mforce_all_finite\n\u001b[1;32m     79\u001b[0m )\n\u001b[1;32m     80\u001b[0m \u001b[39mself\u001b[39m\u001b[39m.\u001b[39mn_features_in_ \u001b[39m=\u001b[39m n_features\n\u001b[1;32m     82\u001b[0m \u001b[39mif\u001b[39;00m \u001b[39mself\u001b[39m\u001b[39m.\u001b[39mcategories \u001b[39m!=\u001b[39m \u001b[39m\"\u001b[39m\u001b[39mauto\u001b[39m\u001b[39m\"\u001b[39m:\n",
      "File \u001b[0;32m~/anaconda3/envs/unsupervisedLearning/lib/python3.11/site-packages/sklearn/preprocessing/_encoders.py:43\u001b[0m, in \u001b[0;36m_BaseEncoder._check_X\u001b[0;34m(self, X, force_all_finite)\u001b[0m\n\u001b[1;32m     30\u001b[0m \u001b[39m\u001b[39m\u001b[39m\"\"\"\u001b[39;00m\n\u001b[1;32m     31\u001b[0m \u001b[39mPerform custom check_array:\u001b[39;00m\n\u001b[1;32m     32\u001b[0m \u001b[39m- convert list of strings to object dtype\u001b[39;00m\n\u001b[0;32m   (...)\u001b[0m\n\u001b[1;32m     39\u001b[0m \n\u001b[1;32m     40\u001b[0m \u001b[39m\"\"\"\u001b[39;00m\n\u001b[1;32m     41\u001b[0m \u001b[39mif\u001b[39;00m \u001b[39mnot\u001b[39;00m (\u001b[39mhasattr\u001b[39m(X, \u001b[39m\"\u001b[39m\u001b[39miloc\u001b[39m\u001b[39m\"\u001b[39m) \u001b[39mand\u001b[39;00m \u001b[39mgetattr\u001b[39m(X, \u001b[39m\"\u001b[39m\u001b[39mndim\u001b[39m\u001b[39m\"\u001b[39m, \u001b[39m0\u001b[39m) \u001b[39m==\u001b[39m \u001b[39m2\u001b[39m):\n\u001b[1;32m     42\u001b[0m     \u001b[39m# if not a dataframe, do normal check_array validation\u001b[39;00m\n\u001b[0;32m---> 43\u001b[0m     X_temp \u001b[39m=\u001b[39m check_array(X, dtype\u001b[39m=\u001b[39m\u001b[39mNone\u001b[39;00m, force_all_finite\u001b[39m=\u001b[39mforce_all_finite)\n\u001b[1;32m     44\u001b[0m     \u001b[39mif\u001b[39;00m \u001b[39mnot\u001b[39;00m \u001b[39mhasattr\u001b[39m(X, \u001b[39m\"\u001b[39m\u001b[39mdtype\u001b[39m\u001b[39m\"\u001b[39m) \u001b[39mand\u001b[39;00m np\u001b[39m.\u001b[39missubdtype(X_temp\u001b[39m.\u001b[39mdtype, np\u001b[39m.\u001b[39mstr_):\n\u001b[1;32m     45\u001b[0m         X \u001b[39m=\u001b[39m check_array(X, dtype\u001b[39m=\u001b[39m\u001b[39mobject\u001b[39m, force_all_finite\u001b[39m=\u001b[39mforce_all_finite)\n",
      "File \u001b[0;32m~/anaconda3/envs/unsupervisedLearning/lib/python3.11/site-packages/sklearn/utils/validation.py:940\u001b[0m, in \u001b[0;36mcheck_array\u001b[0;34m(array, accept_sparse, accept_large_sparse, dtype, order, copy, force_all_finite, ensure_2d, allow_nd, ensure_min_samples, ensure_min_features, estimator, input_name)\u001b[0m\n\u001b[1;32m    938\u001b[0m     \u001b[39m# If input is 1D raise error\u001b[39;00m\n\u001b[1;32m    939\u001b[0m     \u001b[39mif\u001b[39;00m array\u001b[39m.\u001b[39mndim \u001b[39m==\u001b[39m \u001b[39m1\u001b[39m:\n\u001b[0;32m--> 940\u001b[0m         \u001b[39mraise\u001b[39;00m \u001b[39mValueError\u001b[39;00m(\n\u001b[1;32m    941\u001b[0m             \u001b[39m\"\u001b[39m\u001b[39mExpected 2D array, got 1D array instead:\u001b[39m\u001b[39m\\n\u001b[39;00m\u001b[39marray=\u001b[39m\u001b[39m{}\u001b[39;00m\u001b[39m.\u001b[39m\u001b[39m\\n\u001b[39;00m\u001b[39m\"\u001b[39m\n\u001b[1;32m    942\u001b[0m             \u001b[39m\"\u001b[39m\u001b[39mReshape your data either using array.reshape(-1, 1) if \u001b[39m\u001b[39m\"\u001b[39m\n\u001b[1;32m    943\u001b[0m             \u001b[39m\"\u001b[39m\u001b[39myour data has a single feature or array.reshape(1, -1) \u001b[39m\u001b[39m\"\u001b[39m\n\u001b[1;32m    944\u001b[0m             \u001b[39m\"\u001b[39m\u001b[39mif it contains a single sample.\u001b[39m\u001b[39m\"\u001b[39m\u001b[39m.\u001b[39mformat(array)\n\u001b[1;32m    945\u001b[0m         )\n\u001b[1;32m    947\u001b[0m \u001b[39mif\u001b[39;00m dtype_numeric \u001b[39mand\u001b[39;00m \u001b[39mhasattr\u001b[39m(array\u001b[39m.\u001b[39mdtype, \u001b[39m\"\u001b[39m\u001b[39mkind\u001b[39m\u001b[39m\"\u001b[39m) \u001b[39mand\u001b[39;00m array\u001b[39m.\u001b[39mdtype\u001b[39m.\u001b[39mkind \u001b[39min\u001b[39;00m \u001b[39m\"\u001b[39m\u001b[39mUSV\u001b[39m\u001b[39m\"\u001b[39m:\n\u001b[1;32m    948\u001b[0m     \u001b[39mraise\u001b[39;00m \u001b[39mValueError\u001b[39;00m(\n\u001b[1;32m    949\u001b[0m         \u001b[39m\"\u001b[39m\u001b[39mdtype=\u001b[39m\u001b[39m'\u001b[39m\u001b[39mnumeric\u001b[39m\u001b[39m'\u001b[39m\u001b[39m is not compatible with arrays of bytes/strings.\u001b[39m\u001b[39m\"\u001b[39m\n\u001b[1;32m    950\u001b[0m         \u001b[39m\"\u001b[39m\u001b[39mConvert your data to numeric values explicitly instead.\u001b[39m\u001b[39m\"\u001b[39m\n\u001b[1;32m    951\u001b[0m     )\n",
      "\u001b[0;31mValueError\u001b[0m: Expected 2D array, got 1D array instead:\narray=['Petrol' 'Diesel' 'Petrol' 'Petrol' 'Diesel' 'Diesel' 'Petrol' 'Diesel'\n 'Diesel' 'Diesel' 'Petrol' 'Diesel' 'Petrol' 'Petrol' 'Petrol' 'Diesel'\n 'Diesel' 'Diesel' 'CNG' 'Petrol' 'Petrol' 'Petrol' 'Petrol' 'Petrol'\n 'Petrol' 'Petrol' 'Petrol' 'Petrol' 'Petrol' 'Diesel' 'Diesel' 'Petrol'\n 'Diesel' 'Diesel' 'Diesel' 'CNG' 'Petrol' 'Petrol' 'Petrol' 'Petrol'\n 'Petrol' 'Petrol' 'Petrol' 'Diesel' 'Petrol' 'Petrol' 'Petrol' 'Petrol'\n 'Petrol' 'Petrol' 'Diesel' 'Diesel' 'Diesel' 'Diesel' 'Petrol' 'Petrol'\n 'Petrol' 'Petrol' 'Petrol' 'Diesel' 'Petrol' 'Petrol' 'Diesel' 'Diesel'\n 'Diesel' 'Diesel' 'Petrol' 'Diesel' 'Petrol' 'Petrol' 'Diesel' 'Diesel'\n 'Petrol' 'Petrol' 'Diesel' 'Petrol' 'Petrol' 'Petrol' 'Petrol' 'Diesel'\n 'Diesel' 'Diesel' 'Diesel' 'Diesel' 'Diesel' 'Petrol' 'Diesel' 'Petrol'\n 'Petrol' 'Petrol' 'Petrol' 'Diesel' 'Petrol' 'Diesel' 'Petrol' 'Petrol'\n 'Diesel' 'Petrol' 'Petrol' 'Diesel' 'Petrol' 'Petrol' 'Petrol' 'Petrol'\n 'Petrol' 'Petrol' 'Petrol' 'Petrol' 'Petrol' 'Petrol' 'Petrol' 'Petrol'\n 'Petrol' 'Petrol' 'Petrol' 'Petrol' 'Petrol' 'Petrol' 'Petrol' 'Petrol'\n 'Petrol' 'Petrol' 'Petrol' 'Petrol' 'Petrol' 'Petrol' 'Petrol' 'Petrol'\n 'Petrol' 'Petrol' 'Petrol' 'Petrol' 'Petrol' 'Petrol' 'Petrol' 'Petrol'\n 'Petrol' 'Petrol' 'Petrol' 'Petrol' 'Petrol' 'Petrol' 'Petrol' 'Petrol'\n 'Petrol' 'Petrol' 'Petrol' 'Petrol' 'Petrol' 'Petrol' 'Petrol' 'Petrol'\n 'Petrol' 'Petrol' 'Petrol' 'Petrol' 'Petrol' 'Petrol' 'Petrol' 'Petrol'\n 'Petrol' 'Petrol' 'Petrol' 'Petrol' 'Petrol' 'Petrol' 'Petrol' 'Petrol'\n 'Petrol' 'Petrol' 'Petrol' 'Petrol' 'Petrol' 'Petrol' 'Petrol' 'Petrol'\n 'Petrol' 'Petrol' 'Petrol' 'Petrol' 'Petrol' 'Petrol' 'Petrol' 'Petrol'\n 'Petrol' 'Petrol' 'Petrol' 'Petrol' 'Petrol' 'Petrol' 'Petrol' 'Petrol'\n 'Petrol' 'Petrol' 'Petrol' 'Petrol' 'Petrol' 'Petrol' 'Petrol' 'Petrol'\n 'Petrol' 'Diesel' 'Petrol' 'Petrol' 'Petrol' 'Petrol' 'Petrol' 'Petrol'\n 'Petrol' 'Diesel' 'Petrol' 'Diesel' 'Petrol' 'Petrol' 'Petrol' 'Petrol'\n 'Petrol' 'Petrol' 'Petrol' 'Petrol' 'Petrol' 'Petrol' 'Diesel' 'Diesel'\n 'Petrol' 'Petrol' 'Petrol' 'Petrol' 'Diesel' 'Diesel' 'Diesel' 'Petrol'\n 'Petrol' 'Diesel' 'Petrol' 'Petrol' 'Petrol' 'Diesel' 'Petrol' 'Petrol'\n 'Diesel' 'Petrol' 'Petrol' 'Petrol' 'Diesel' 'Diesel' 'Petrol' 'Petrol'\n 'Petrol' 'Petrol' 'Diesel' 'Petrol' 'Petrol' 'Diesel' 'Petrol' 'Petrol'\n 'Petrol' 'Petrol' 'Petrol' 'Petrol' 'Petrol' 'Petrol' 'Petrol' 'Petrol'\n 'Petrol' 'Petrol' 'Petrol' 'Diesel' 'Petrol' 'Petrol' 'Petrol' 'Petrol'\n 'Petrol' 'Petrol' 'Petrol' 'Petrol' 'Petrol' 'Petrol' 'Petrol' 'Petrol'\n 'Petrol' 'Petrol' 'Diesel' 'Petrol' 'Petrol' 'Petrol' 'Petrol' 'Petrol'\n 'Petrol' 'Petrol' 'Petrol' 'Petrol' 'Petrol' 'Petrol' 'Petrol' 'Diesel'\n 'Diesel' 'Petrol' 'Petrol' 'Diesel' 'Petrol'].\nReshape your data either using array.reshape(-1, 1) if your data has a single feature or array.reshape(1, -1) if it contains a single sample."
     ]
    }
   ],
   "source": [
    "ohe = OneHotEncoder(drop=\"first\")\n",
    "ohe.fit(df1['Fuel_Type'])\n",
    "dffuel = ohe.transform('Fuel_Type')\n",
    "dffuel.head()"
   ]
  },
  {
   "cell_type": "code",
   "execution_count": 14,
   "metadata": {},
   "outputs": [
    {
     "data": {
      "text/plain": [
       "0         ritz\n",
       "1          sx4\n",
       "2         ciaz\n",
       "3      wagon r\n",
       "4        swift\n",
       "        ...   \n",
       "296       city\n",
       "297       brio\n",
       "298       city\n",
       "299       city\n",
       "300       brio\n",
       "Name: Car_Name, Length: 301, dtype: object"
      ]
     },
     "execution_count": 14,
     "metadata": {},
     "output_type": "execute_result"
    }
   ],
   "source": [
    "df1[non_numeric[0]]"
   ]
  }
 ],
 "metadata": {
  "kernelspec": {
   "display_name": "unsupervisedLearning",
   "language": "python",
   "name": "python3"
  },
  "language_info": {
   "codemirror_mode": {
    "name": "ipython",
    "version": 3
   },
   "file_extension": ".py",
   "mimetype": "text/x-python",
   "name": "python",
   "nbconvert_exporter": "python",
   "pygments_lexer": "ipython3",
   "version": "3.11.4"
  },
  "orig_nbformat": 4
 },
 "nbformat": 4,
 "nbformat_minor": 2
}
