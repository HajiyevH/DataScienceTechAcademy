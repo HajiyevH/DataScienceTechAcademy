{
 "cells": [
  {
   "cell_type": "code",
   "execution_count": 4,
   "metadata": {},
   "outputs": [
    {
     "ename": "NoSuchElementException",
     "evalue": "Message: no such element: Unable to locate element: {\"method\":\"css selector\",\"selector\":\".stats_table sortable min_width now_sortable sticky_table eq1 re1 le1\"}\n  (Session info: chrome=123.0.6312.87); For documentation on this error, please visit: https://www.selenium.dev/documentation/webdriver/troubleshooting/errors#no-such-element-exception\nStacktrace:\n0   chromedriver                        0x00000001010d041c chromedriver + 4326428\n1   chromedriver                        0x00000001010c88e4 chromedriver + 4294884\n2   chromedriver                        0x0000000100cf4088 chromedriver + 278664\n3   chromedriver                        0x0000000100d36a80 chromedriver + 551552\n4   chromedriver                        0x0000000100d6f4f8 chromedriver + 783608\n5   chromedriver                        0x0000000100d2b4e4 chromedriver + 505060\n6   chromedriver                        0x0000000100d2bf5c chromedriver + 507740\n7   chromedriver                        0x00000001010939b8 chromedriver + 4078008\n8   chromedriver                        0x0000000101098770 chromedriver + 4097904\n9   chromedriver                        0x000000010107a55c chromedriver + 3974492\n10  chromedriver                        0x0000000101099088 chromedriver + 4100232\n11  chromedriver                        0x000000010106bb4c chromedriver + 3914572\n12  chromedriver                        0x00000001010b9690 chromedriver + 4232848\n13  chromedriver                        0x00000001010b980c chromedriver + 4233228\n14  chromedriver                        0x00000001010c8558 chromedriver + 4293976\n15  libsystem_pthread.dylib             0x0000000189a46034 _pthread_start + 136\n16  libsystem_pthread.dylib             0x0000000189a40e3c thread_start + 8\n",
     "output_type": "error",
     "traceback": [
      "\u001b[0;31m---------------------------------------------------------------------------\u001b[0m",
      "\u001b[0;31mNoSuchElementException\u001b[0m                    Traceback (most recent call last)",
      "Cell \u001b[0;32mIn[4], line 10\u001b[0m\n\u001b[1;32m      6\u001b[0m driver \u001b[38;5;241m=\u001b[39m webdriver\u001b[38;5;241m.\u001b[39mChrome()\n\u001b[1;32m      8\u001b[0m driver\u001b[38;5;241m.\u001b[39mget(\u001b[38;5;124m\"\u001b[39m\u001b[38;5;124mhttps://fbref.com/en/comps/8/stats/Champions-League-Stats\u001b[39m\u001b[38;5;124m\"\u001b[39m)\n\u001b[0;32m---> 10\u001b[0m table2 \u001b[38;5;241m=\u001b[39m driver\u001b[38;5;241m.\u001b[39mfind_element(By\u001b[38;5;241m.\u001b[39mCLASS_NAME , \u001b[38;5;124m\"\u001b[39m\u001b[38;5;124mstats_table sortable min_width now_sortable sticky_table eq1 re1 le1\u001b[39m\u001b[38;5;124m\"\u001b[39m)\n\u001b[1;32m     12\u001b[0m \u001b[38;5;28mprint\u001b[39m(table2)\n\u001b[1;32m     14\u001b[0m time\u001b[38;5;241m.\u001b[39msleep(\u001b[38;5;241m5\u001b[39m)\n",
      "File \u001b[0;32m~/anaconda3/envs/unsupervisedLearning/lib/python3.11/site-packages/selenium/webdriver/remote/webdriver.py:741\u001b[0m, in \u001b[0;36mWebDriver.find_element\u001b[0;34m(self, by, value)\u001b[0m\n\u001b[1;32m    738\u001b[0m     by \u001b[38;5;241m=\u001b[39m By\u001b[38;5;241m.\u001b[39mCSS_SELECTOR\n\u001b[1;32m    739\u001b[0m     value \u001b[38;5;241m=\u001b[39m \u001b[38;5;124mf\u001b[39m\u001b[38;5;124m'\u001b[39m\u001b[38;5;124m[name=\u001b[39m\u001b[38;5;124m\"\u001b[39m\u001b[38;5;132;01m{\u001b[39;00mvalue\u001b[38;5;132;01m}\u001b[39;00m\u001b[38;5;124m\"\u001b[39m\u001b[38;5;124m]\u001b[39m\u001b[38;5;124m'\u001b[39m\n\u001b[0;32m--> 741\u001b[0m \u001b[38;5;28;01mreturn\u001b[39;00m \u001b[38;5;28mself\u001b[39m\u001b[38;5;241m.\u001b[39mexecute(Command\u001b[38;5;241m.\u001b[39mFIND_ELEMENT, {\u001b[38;5;124m\"\u001b[39m\u001b[38;5;124musing\u001b[39m\u001b[38;5;124m\"\u001b[39m: by, \u001b[38;5;124m\"\u001b[39m\u001b[38;5;124mvalue\u001b[39m\u001b[38;5;124m\"\u001b[39m: value})[\u001b[38;5;124m\"\u001b[39m\u001b[38;5;124mvalue\u001b[39m\u001b[38;5;124m\"\u001b[39m]\n",
      "File \u001b[0;32m~/anaconda3/envs/unsupervisedLearning/lib/python3.11/site-packages/selenium/webdriver/remote/webdriver.py:347\u001b[0m, in \u001b[0;36mWebDriver.execute\u001b[0;34m(self, driver_command, params)\u001b[0m\n\u001b[1;32m    345\u001b[0m response \u001b[38;5;241m=\u001b[39m \u001b[38;5;28mself\u001b[39m\u001b[38;5;241m.\u001b[39mcommand_executor\u001b[38;5;241m.\u001b[39mexecute(driver_command, params)\n\u001b[1;32m    346\u001b[0m \u001b[38;5;28;01mif\u001b[39;00m response:\n\u001b[0;32m--> 347\u001b[0m     \u001b[38;5;28mself\u001b[39m\u001b[38;5;241m.\u001b[39merror_handler\u001b[38;5;241m.\u001b[39mcheck_response(response)\n\u001b[1;32m    348\u001b[0m     response[\u001b[38;5;124m\"\u001b[39m\u001b[38;5;124mvalue\u001b[39m\u001b[38;5;124m\"\u001b[39m] \u001b[38;5;241m=\u001b[39m \u001b[38;5;28mself\u001b[39m\u001b[38;5;241m.\u001b[39m_unwrap_value(response\u001b[38;5;241m.\u001b[39mget(\u001b[38;5;124m\"\u001b[39m\u001b[38;5;124mvalue\u001b[39m\u001b[38;5;124m\"\u001b[39m, \u001b[38;5;28;01mNone\u001b[39;00m))\n\u001b[1;32m    349\u001b[0m     \u001b[38;5;28;01mreturn\u001b[39;00m response\n",
      "File \u001b[0;32m~/anaconda3/envs/unsupervisedLearning/lib/python3.11/site-packages/selenium/webdriver/remote/errorhandler.py:229\u001b[0m, in \u001b[0;36mErrorHandler.check_response\u001b[0;34m(self, response)\u001b[0m\n\u001b[1;32m    227\u001b[0m         alert_text \u001b[38;5;241m=\u001b[39m value[\u001b[38;5;124m\"\u001b[39m\u001b[38;5;124malert\u001b[39m\u001b[38;5;124m\"\u001b[39m]\u001b[38;5;241m.\u001b[39mget(\u001b[38;5;124m\"\u001b[39m\u001b[38;5;124mtext\u001b[39m\u001b[38;5;124m\"\u001b[39m)\n\u001b[1;32m    228\u001b[0m     \u001b[38;5;28;01mraise\u001b[39;00m exception_class(message, screen, stacktrace, alert_text)  \u001b[38;5;66;03m# type: ignore[call-arg]  # mypy is not smart enough here\u001b[39;00m\n\u001b[0;32m--> 229\u001b[0m \u001b[38;5;28;01mraise\u001b[39;00m exception_class(message, screen, stacktrace)\n",
      "\u001b[0;31mNoSuchElementException\u001b[0m: Message: no such element: Unable to locate element: {\"method\":\"css selector\",\"selector\":\".stats_table sortable min_width now_sortable sticky_table eq1 re1 le1\"}\n  (Session info: chrome=123.0.6312.87); For documentation on this error, please visit: https://www.selenium.dev/documentation/webdriver/troubleshooting/errors#no-such-element-exception\nStacktrace:\n0   chromedriver                        0x00000001010d041c chromedriver + 4326428\n1   chromedriver                        0x00000001010c88e4 chromedriver + 4294884\n2   chromedriver                        0x0000000100cf4088 chromedriver + 278664\n3   chromedriver                        0x0000000100d36a80 chromedriver + 551552\n4   chromedriver                        0x0000000100d6f4f8 chromedriver + 783608\n5   chromedriver                        0x0000000100d2b4e4 chromedriver + 505060\n6   chromedriver                        0x0000000100d2bf5c chromedriver + 507740\n7   chromedriver                        0x00000001010939b8 chromedriver + 4078008\n8   chromedriver                        0x0000000101098770 chromedriver + 4097904\n9   chromedriver                        0x000000010107a55c chromedriver + 3974492\n10  chromedriver                        0x0000000101099088 chromedriver + 4100232\n11  chromedriver                        0x000000010106bb4c chromedriver + 3914572\n12  chromedriver                        0x00000001010b9690 chromedriver + 4232848\n13  chromedriver                        0x00000001010b980c chromedriver + 4233228\n14  chromedriver                        0x00000001010c8558 chromedriver + 4293976\n15  libsystem_pthread.dylib             0x0000000189a46034 _pthread_start + 136\n16  libsystem_pthread.dylib             0x0000000189a40e3c thread_start + 8\n"
     ]
    }
   ],
   "source": [
    "from selenium import webdriver\n",
    "from selenium.webdriver.common.by import By\n",
    "import time\n",
    "path = \"//Users//hajiaga//Desktop//DataScience//chromedriver\"\n",
    "\n",
    "driver = webdriver.Chrome()\n",
    "\n",
    "driver.get(\"https://fbref.com/en/comps/8/stats/Champions-League-Stats\")\n",
    "\n",
    "table2 = driver.find_element(By.dat , \"stats_table sortable min_width now_sortable sticky_table eq1 re1 le1\")\n",
    "\n",
    "print(table2)\n",
    "\n",
    "time.sleep(5)\n",
    "\n",
    "driver.quit()"
   ]
  }
 ],
 "metadata": {
  "kernelspec": {
   "display_name": "unsupervisedLearning",
   "language": "python",
   "name": "python3"
  },
  "language_info": {
   "codemirror_mode": {
    "name": "ipython",
    "version": 3
   },
   "file_extension": ".py",
   "mimetype": "text/x-python",
   "name": "python",
   "nbconvert_exporter": "python",
   "pygments_lexer": "ipython3",
   "version": "3.11.4"
  }
 },
 "nbformat": 4,
 "nbformat_minor": 2
}
