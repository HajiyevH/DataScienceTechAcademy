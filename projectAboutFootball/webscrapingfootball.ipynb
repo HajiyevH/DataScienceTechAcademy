{
 "cells": [
  {
   "cell_type": "code",
   "execution_count": 49,
   "metadata": {},
   "outputs": [],
   "source": [
    "from bs4 import BeautifulSoup\n",
    "import requests\n",
    "import random\n"
   ]
  },
  {
   "cell_type": "code",
   "execution_count": 50,
   "metadata": {},
   "outputs": [
    {
     "name": "stdout",
     "output_type": "stream",
     "text": [
      "<Response [200]>\n"
     ]
    }
   ],
   "source": [
    "url = \"https://fbref.com/en/comps/8/stats/Champions-League-Stats\"\n",
    "page = requests.get(url)\n",
    "soup = BeautifulSoup(page.text,'html')\n",
    "print(page)\n"
   ]
  },
  {
   "cell_type": "code",
   "execution_count": 87,
   "metadata": {},
   "outputs": [
    {
     "name": "stdout",
     "output_type": "stream",
     "text": [
      "['Antwerp', 'Arsenal', 'Atlético Madrid', 'Barcelona', 'Bayern Munich', 'Benfica', 'Braga', 'Celtic', 'Dortmund', 'FC Copenhagen', 'Feyenoord', 'Galatasaray', 'Inter', 'Lazio', 'Lens', 'Manchester City', 'Manchester Utd', 'Milan', 'Napoli', 'Newcastle Utd', 'Paris S-G', 'Porto', 'PSV Eindhoven', 'RB Leipzig', 'RB Salzburg', 'Real Madrid', 'Real Sociedad', 'Red Star', 'Sevilla', 'Shakhtar', 'Union Berlin', 'Young Boys']\n"
     ]
    }
   ],
   "source": [
    "team_names_th = soup.find_all(\"th\",{'class':'left','data-stat' : 'team'})\n",
    "team_names = [(i.find(\"a\")).text for i in team_names_th if str(i.find(\"a\").text)[:2] != 'vs']\n",
    "print(team_names)"
   ]
  }
 ],
 "metadata": {
  "kernelspec": {
   "display_name": "unsupervisedLearning",
   "language": "python",
   "name": "python3"
  },
  "language_info": {
   "codemirror_mode": {
    "name": "ipython",
    "version": 3
   },
   "file_extension": ".py",
   "mimetype": "text/x-python",
   "name": "python",
   "nbconvert_exporter": "python",
   "pygments_lexer": "ipython3",
   "version": "3.11.4"
  }
 },
 "nbformat": 4,
 "nbformat_minor": 2
}
